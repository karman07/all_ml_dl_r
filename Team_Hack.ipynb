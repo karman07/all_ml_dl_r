{
  "nbformat": 4,
  "nbformat_minor": 0,
  "metadata": {
    "colab": {
      "provenance": [],
      "gpuType": "V28",
      "authorship_tag": "ABX9TyMDmcqEjuTeF41U9C1bAG3W",
      "include_colab_link": true
    },
    "kernelspec": {
      "name": "python3",
      "display_name": "Python 3"
    },
    "language_info": {
      "name": "python"
    },
    "accelerator": "TPU"
  },
  "cells": [
    {
      "cell_type": "markdown",
      "metadata": {
        "id": "view-in-github",
        "colab_type": "text"
      },
      "source": [
        "<a href=\"https://colab.research.google.com/github/karman07/all_ml_dl_r/blob/master/Team_Hack.ipynb\" target=\"_parent\"><img src=\"https://colab.research.google.com/assets/colab-badge.svg\" alt=\"Open In Colab\"/></a>"
      ]
    },
    {
      "cell_type": "code",
      "source": [
        "!pip install catboost"
      ],
      "metadata": {
        "colab": {
          "base_uri": "https://localhost:8080/"
        },
        "id": "TP4qXb0m5kLb",
        "outputId": "6ff6564c-278f-4a96-f83c-d00a1c389f50"
      },
      "execution_count": 3,
      "outputs": [
        {
          "output_type": "stream",
          "name": "stdout",
          "text": [
            "Requirement already satisfied: catboost in /usr/local/lib/python3.11/dist-packages (1.2.8)\n",
            "Requirement already satisfied: graphviz in /usr/local/lib/python3.11/dist-packages (from catboost) (0.21)\n",
            "Requirement already satisfied: matplotlib in /usr/local/lib/python3.11/dist-packages (from catboost) (3.10.0)\n",
            "Requirement already satisfied: numpy<3.0,>=1.16.0 in /usr/local/lib/python3.11/dist-packages (from catboost) (2.0.2)\n",
            "Requirement already satisfied: pandas>=0.24 in /usr/local/lib/python3.11/dist-packages (from catboost) (2.2.2)\n",
            "Requirement already satisfied: scipy in /usr/local/lib/python3.11/dist-packages (from catboost) (1.15.3)\n",
            "Requirement already satisfied: plotly in /usr/local/lib/python3.11/dist-packages (from catboost) (5.24.1)\n",
            "Requirement already satisfied: six in /usr/local/lib/python3.11/dist-packages (from catboost) (1.17.0)\n",
            "Requirement already satisfied: python-dateutil>=2.8.2 in /usr/local/lib/python3.11/dist-packages (from pandas>=0.24->catboost) (2.9.0.post0)\n",
            "Requirement already satisfied: pytz>=2020.1 in /usr/local/lib/python3.11/dist-packages (from pandas>=0.24->catboost) (2025.2)\n",
            "Requirement already satisfied: tzdata>=2022.7 in /usr/local/lib/python3.11/dist-packages (from pandas>=0.24->catboost) (2025.2)\n",
            "Requirement already satisfied: contourpy>=1.0.1 in /usr/local/lib/python3.11/dist-packages (from matplotlib->catboost) (1.3.2)\n",
            "Requirement already satisfied: cycler>=0.10 in /usr/local/lib/python3.11/dist-packages (from matplotlib->catboost) (0.12.1)\n",
            "Requirement already satisfied: fonttools>=4.22.0 in /usr/local/lib/python3.11/dist-packages (from matplotlib->catboost) (4.58.4)\n",
            "Requirement already satisfied: kiwisolver>=1.3.1 in /usr/local/lib/python3.11/dist-packages (from matplotlib->catboost) (1.4.8)\n",
            "Requirement already satisfied: packaging>=20.0 in /usr/local/lib/python3.11/dist-packages (from matplotlib->catboost) (24.2)\n",
            "Requirement already satisfied: pillow>=8 in /usr/local/lib/python3.11/dist-packages (from matplotlib->catboost) (11.2.1)\n",
            "Requirement already satisfied: pyparsing>=2.3.1 in /usr/local/lib/python3.11/dist-packages (from matplotlib->catboost) (3.2.3)\n",
            "Requirement already satisfied: tenacity>=6.2.0 in /usr/local/lib/python3.11/dist-packages (from plotly->catboost) (8.5.0)\n"
          ]
        }
      ]
    },
    {
      "cell_type": "code",
      "execution_count": 4,
      "metadata": {
        "id": "HV3WPB4Avf5b"
      },
      "outputs": [],
      "source": [
        "import pandas as pd\n",
        "import numpy as np\n",
        "from sklearn.model_selection import train_test_split\n",
        "from sklearn.preprocessing import StandardScaler\n",
        "from sklearn.metrics import r2_score, mean_squared_error, mean_absolute_error\n",
        "from sklearn.ensemble import StackingRegressor, GradientBoostingRegressor\n",
        "from sklearn.linear_model import RidgeCV\n",
        "from xgboost import XGBRegressor\n",
        "from lightgbm import LGBMRegressor\n",
        "from catboost import CatBoostRegressor\n",
        "import warnings\n",
        "warnings.filterwarnings(\"ignore\")"
      ]
    },
    {
      "cell_type": "code",
      "source": [
        "df = pd.read_csv(\"train.csv\")\n",
        "df.drop(columns=[\"id\", \"Row#\"], inplace=True, errors=\"ignore\")"
      ],
      "metadata": {
        "id": "Dt2deX8Ax123"
      },
      "execution_count": 5,
      "outputs": []
    },
    {
      "cell_type": "code",
      "source": [
        "q1, q3 = df[\"yield\"].quantile([0.25, 0.75])\n",
        "iqr = q3 - q1\n",
        "df = df[(df[\"yield\"] >= q1 - 1.5 * iqr) & (df[\"yield\"] <= q3 + 1.5 * iqr)]"
      ],
      "metadata": {
        "id": "SPqJNZTwyehC"
      },
      "execution_count": 6,
      "outputs": []
    },
    {
      "cell_type": "code",
      "source": [
        "df[\"bee_activity\"] = df[\"honeybee\"] + df[\"bumbles\"] + df[\"andrena\"] + df[\"osmia\"]\n",
        "df[\"mass_times_seeds\"] = df[\"fruitmass\"] * df[\"seeds\"]\n",
        "df[\"rain_per_fruit\"] = df[\"AverageRainingDays\"] / (df[\"fruitset\"] + 1e-3)\n",
        "df[\"upper_range_diff\"] = df[\"MaxOfUpperTRange\"] - df[\"MinOfUpperTRange\"]\n",
        "df[\"lower_range_diff\"] = df[\"MaxOfLowerTRange\"] - df[\"MinOfLowerTRange\"]"
      ],
      "metadata": {
        "id": "oyOofHmxygqv"
      },
      "execution_count": 7,
      "outputs": []
    },
    {
      "cell_type": "code",
      "source": [
        "target = df[\"yield\"]\n",
        "features = df.drop(columns=\"yield\")\n",
        "correlations = pd.concat([features, target], axis=1).corr()[\"yield\"].abs().sort_values(ascending=False)\n",
        "top_features = correlations[1:20].index.tolist()\n"
      ],
      "metadata": {
        "id": "TCGFIf9YyjBw"
      },
      "execution_count": 8,
      "outputs": []
    },
    {
      "cell_type": "code",
      "source": [
        "X = df[top_features]\n",
        "y = df[\"yield\"]\n",
        "scaler = StandardScaler()\n",
        "X_scaled = scaler.fit_transform(X)\n",
        "X_train, X_val, y_train, y_val = train_test_split(X_scaled, y, test_size=0.2, random_state=42)\n"
      ],
      "metadata": {
        "id": "JnwwmSIpynWg"
      },
      "execution_count": 9,
      "outputs": []
    },
    {
      "cell_type": "code",
      "source": [
        "cat = CatBoostRegressor(iterations=1000, depth=9, learning_rate=0.02, l2_leaf_reg=5, random_state=42, verbose=0)\n",
        "xgb = XGBRegressor(n_estimators=500, learning_rate=0.02, max_depth=7, subsample=0.9, colsample_bytree=0.9, random_state=42, verbosity=0)\n",
        "lgb = LGBMRegressor(n_estimators=500, learning_rate=0.02, max_depth=7, subsample=0.9, colsample_bytree=0.9, random_state=42)\n",
        "gbr = GradientBoostingRegressor(n_estimators=300, learning_rate=0.02, max_depth=5, random_state=42)\n"
      ],
      "metadata": {
        "id": "Oq9sYWU_yoww"
      },
      "execution_count": 10,
      "outputs": []
    },
    {
      "cell_type": "code",
      "source": [
        "stack = StackingRegressor(\n",
        "    estimators=[(\"cat\", cat), (\"xgb\", xgb), (\"lgb\", lgb), (\"gbr\", gbr)],\n",
        "    final_estimator=RidgeCV(alphas=np.logspace(-3, 2, 50)),\n",
        "    n_jobs=-1\n",
        ")\n"
      ],
      "metadata": {
        "id": "jYxrOnkvyrS2"
      },
      "execution_count": 11,
      "outputs": []
    },
    {
      "cell_type": "code",
      "source": [
        "stack.fit(X_train, y_train)\n",
        "y_pred = stack.predict(X_val)\n",
        "\n",
        "print(\"R2:\", r2_score(y_val, y_pred))\n",
        "print(\"RMSE:\", np.sqrt(mean_squared_error(y_val, y_pred)))\n",
        "print(\"MAE:\", mean_absolute_error(y_val, y_pred))\n"
      ],
      "metadata": {
        "colab": {
          "base_uri": "https://localhost:8080/"
        },
        "id": "DpEbtF5SytKo",
        "outputId": "a8d21b12-ea4f-498a-a043-a1910885b39a"
      },
      "execution_count": 12,
      "outputs": [
        {
          "output_type": "stream",
          "name": "stdout",
          "text": [
            "R2: 0.936351696377446\n",
            "RMSE: 335.36432325808715\n",
            "MAE: 238.06074759276436\n"
          ]
        }
      ]
    },
    {
      "cell_type": "code",
      "source": [
        "test_df = pd.read_csv(\"test.csv\")\n",
        "test_df[\"bee_activity\"] = test_df[\"honeybee\"] + test_df[\"bumbles\"] + test_df[\"andrena\"] + test_df[\"osmia\"]\n",
        "test_df[\"mass_times_seeds\"] = test_df[\"fruitmass\"] * test_df[\"seeds\"]\n",
        "test_df[\"rain_per_fruit\"] = test_df[\"AverageRainingDays\"] / (test_df[\"fruitset\"] + 1e-3)\n",
        "test_df[\"upper_range_diff\"] = test_df[\"MaxOfUpperTRange\"] - test_df[\"MinOfUpperTRange\"]\n",
        "test_df[\"lower_range_diff\"] = test_df[\"MaxOfLowerTRange\"] - test_df[\"MinOfLowerTRange\"]\n",
        "\n",
        "test_scaled = scaler.transform(test_df[top_features])\n",
        "predictions = stack.predict(test_scaled)\n"
      ],
      "metadata": {
        "id": "Pj9f3ObnyzbS"
      },
      "execution_count": 13,
      "outputs": []
    },
    {
      "cell_type": "code",
      "source": [
        "submission = pd.DataFrame({\"id\": test_df[\"id\"], \"target\": predictions})\n",
        "submission.to_csv(\"Karman_Singh_2023362.csv\", index=False)"
      ],
      "metadata": {
        "colab": {
          "base_uri": "https://localhost:8080/"
        },
        "id": "WVnko05Qy6On",
        "outputId": "09ffc75c-beed-45ae-b0d8-734364bf5db2"
      },
      "execution_count": 14,
      "outputs": [
        {
          "output_type": "stream",
          "name": "stdout",
          "text": [
            "Karman_Singh_2023362.csv created!\n"
          ]
        }
      ]
    }
  ]
}